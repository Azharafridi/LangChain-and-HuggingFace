{
 "cells": [
  {
   "cell_type": "markdown",
   "metadata": {},
   "source": [
    "#### Chroma\n",
    "chroma is a AI-native open-source vector database focused on developer productivity and happiness. chroma is licensed under Apache 2.0"
   ]
  },
  {
   "cell_type": "code",
   "execution_count": 2,
   "metadata": {},
   "outputs": [],
   "source": [
    "## building a sample vectorDB\n",
    "from langchain_chroma import Chroma\n",
    "from langchain_community.document_loaders import  TextLoader\n",
    "from langchain_community.embeddings import OllamaEmbeddings\n",
    "from langchain_text_splitters import RecursiveCharacterTextSplitter\n",
    "\n"
   ]
  },
  {
   "cell_type": "code",
   "execution_count": 4,
   "metadata": {},
   "outputs": [
    {
     "data": {
      "text/plain": [
       "[Document(metadata={'source': 'dataIngesion/speech.txt'}, page_content='\\nThe world must be made safe for democracy. \\nIts peace must be planted upon the tested foundations of political liberty. \\nWe have no selfish ends to serve. \\nWe desire no conquest, no dominion. \\nWe seek no indemnities for ourselves, no material compensation for the sacrifices we shall freely make. \\nWe are but one of the champions of the rights of mankind. \\nWe shall be satisfied when those rights have been made as secure as the faith and the freedom of nations can make them...\\n...\\nOcean and the North Sea in order to shut in Germany, \\nand the principle on which Germany by her submarines seeks to destroy all shipping which enters the war zone which she has laid out around the British Isles.')]"
      ]
     },
     "execution_count": 4,
     "metadata": {},
     "output_type": "execute_result"
    }
   ],
   "source": [
    "loader = TextLoader(\"dataIngesion/speech.txt\")\n",
    "data = loader.load()\n",
    "data"
   ]
  },
  {
   "cell_type": "code",
   "execution_count": 5,
   "metadata": {},
   "outputs": [],
   "source": [
    "# Split\n",
    "text_splitter = RecursiveCharacterTextSplitter(chunk_size=500, chunk_overlap=0)\n",
    "splits = text_splitter.split_documents(data)"
   ]
  },
  {
   "cell_type": "markdown",
   "metadata": {},
   "source": [
    "#### create vector store"
   ]
  },
  {
   "cell_type": "code",
   "execution_count": 7,
   "metadata": {},
   "outputs": [
    {
     "data": {
      "text/plain": [
       "<langchain_chroma.vectorstores.Chroma at 0x15c365aabc0>"
      ]
     },
     "execution_count": 7,
     "metadata": {},
     "output_type": "execute_result"
    }
   ],
   "source": [
    "embeddings = OllamaEmbeddings()\n",
    "vectordb = Chroma.from_documents(documents=splits, embedding=embeddings)\n",
    "vectordb"
   ]
  },
  {
   "cell_type": "code",
   "execution_count": 9,
   "metadata": {},
   "outputs": [
    {
     "name": "stderr",
     "output_type": "stream",
     "text": [
      "Number of requested results 4 is greater than number of elements in index 2, updating n_results = 2\n"
     ]
    },
    {
     "data": {
      "text/plain": [
       "'Ocean and the North Sea in order to shut in Germany, \\nand the principle on which Germany by her submarines seeks to destroy all shipping which enters the war zone which she has laid out around the British Isles.'"
      ]
     },
     "execution_count": 9,
     "metadata": {},
     "output_type": "execute_result"
    }
   ],
   "source": [
    "## query it\n",
    "query = \"Why is the world must be made safe for democracy?\"\n",
    "docs = vectordb.similarity_search(query=query)\n",
    "docs[0].page_content"
   ]
  },
  {
   "cell_type": "code",
   "execution_count": 10,
   "metadata": {},
   "outputs": [],
   "source": [
    "## Saving to the disk\n",
    "vectordb = Chroma.from_documents(documents=splits, embedding=embeddings, persist_directory=\"./chroma_db\")"
   ]
  },
  {
   "cell_type": "code",
   "execution_count": 11,
   "metadata": {},
   "outputs": [
    {
     "name": "stderr",
     "output_type": "stream",
     "text": [
      "Number of requested results 4 is greater than number of elements in index 2, updating n_results = 2\n"
     ]
    },
    {
     "name": "stdout",
     "output_type": "stream",
     "text": [
      "Ocean and the North Sea in order to shut in Germany, \n",
      "and the principle on which Germany by her submarines seeks to destroy all shipping which enters the war zone which she has laid out around the British Isles.\n"
     ]
    }
   ],
   "source": [
    "## laod from the disk\n",
    "db2 = Chroma(persist_directory=\"./chroma_db\", embedding_function=embeddings)\n",
    "docs = db2.similarity_search(query)\n",
    "print(docs[0].page_content)"
   ]
  },
  {
   "cell_type": "code",
   "execution_count": 13,
   "metadata": {},
   "outputs": [
    {
     "name": "stderr",
     "output_type": "stream",
     "text": [
      "Number of requested results 4 is greater than number of elements in index 2, updating n_results = 2\n"
     ]
    },
    {
     "data": {
      "text/plain": [
       "[(Document(id='4c9f367d-6f10-4ad3-90b0-ca0529f7defe', metadata={'source': 'dataIngesion/speech.txt'}, page_content='Ocean and the North Sea in order to shut in Germany, \\nand the principle on which Germany by her submarines seeks to destroy all shipping which enters the war zone which she has laid out around the British Isles.'),\n",
       "  12750.168716253535),\n",
       " (Document(id='02b4502e-5670-4650-b3c6-0238d0192d30', metadata={'source': 'dataIngesion/speech.txt'}, page_content='The world must be made safe for democracy. \\nIts peace must be planted upon the tested foundations of political liberty. \\nWe have no selfish ends to serve. \\nWe desire no conquest, no dominion. \\nWe seek no indemnities for ourselves, no material compensation for the sacrifices we shall freely make. \\nWe are but one of the champions of the rights of mankind. \\nWe shall be satisfied when those rights have been made as secure as the faith and the freedom of nations can make them...\\n...'),\n",
       "  23656.133742340604)]"
      ]
     },
     "execution_count": 13,
     "metadata": {},
     "output_type": "execute_result"
    }
   ],
   "source": [
    "## similarity search with score\n",
    "docs = vectordb.similarity_search_with_score(query)\n",
    "docs"
   ]
  },
  {
   "cell_type": "code",
   "execution_count": 15,
   "metadata": {},
   "outputs": [
    {
     "name": "stderr",
     "output_type": "stream",
     "text": [
      "Number of requested results 4 is greater than number of elements in index 2, updating n_results = 2\n"
     ]
    },
    {
     "data": {
      "text/plain": [
       "'Ocean and the North Sea in order to shut in Germany, \\nand the principle on which Germany by her submarines seeks to destroy all shipping which enters the war zone which she has laid out around the British Isles.'"
      ]
     },
     "execution_count": 15,
     "metadata": {},
     "output_type": "execute_result"
    }
   ],
   "source": [
    "## Retriever option\n",
    "retriever = vectordb.as_retriever()\n",
    "retriever.invoke(query)[0].page_content"
   ]
  }
 ],
 "metadata": {
  "kernelspec": {
   "display_name": ".venv",
   "language": "python",
   "name": "python3"
  },
  "language_info": {
   "codemirror_mode": {
    "name": "ipython",
    "version": 3
   },
   "file_extension": ".py",
   "mimetype": "text/x-python",
   "name": "python",
   "nbconvert_exporter": "python",
   "pygments_lexer": "ipython3",
   "version": "3.10.0"
  }
 },
 "nbformat": 4,
 "nbformat_minor": 2
}
